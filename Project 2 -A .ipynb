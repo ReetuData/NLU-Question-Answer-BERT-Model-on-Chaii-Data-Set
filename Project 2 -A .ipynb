{
 "cells": [
  {
   "cell_type": "markdown",
   "id": "d33064be",
   "metadata": {},
   "source": [
    "# Importing Libraries"
   ]
  },
  {
   "cell_type": "code",
   "execution_count": 251,
   "id": "59489483",
   "metadata": {},
   "outputs": [],
   "source": [
    "\n",
    "import requests\n",
    "from bs4 import BeautifulSoup\n",
    "import pandas as pd\n",
    "import numpy as np\n",
    "import matplotlib.pyplot as plt\n",
    "import seaborn as sns\n",
    "import os\n",
    "%matplotlib inline\n",
    "#! pip install plotly\n",
    "#! pip install cufflinks\n",
    "#! pip install textblob"
   ]
  },
  {
   "cell_type": "markdown",
   "id": "5c549c97",
   "metadata": {},
   "source": [
    "# Loading files "
   ]
  },
  {
   "cell_type": "code",
   "execution_count": 252,
   "id": "2563b4a7",
   "metadata": {},
   "outputs": [],
   "source": [
    "path_train_data = \"C:\\\\Users\\\\vishd\\\\Desktop\\\\reetu\\\\Springboard course\\\\Project 2\\\\train1.csv\"\n",
    "path_test_data = \"C:\\\\Users\\\\vishd\\\\Desktop\\\\reetu\\\\Springboard course\\\\Project 2\\\\test.csv\""
   ]
  },
  {
   "cell_type": "code",
   "execution_count": 253,
   "id": "e73a66f9",
   "metadata": {},
   "outputs": [
    {
     "name": "stdout",
     "output_type": "stream",
     "text": [
      "          id                                            context  \\\n",
      "0  903deec17  ஒரு சாதாரண வளர்ந்த மனிதனுடைய எலும்புக்கூடு பின...   \n",
      "1  d9841668c  காளிதாசன் (தேவநாகரி: कालिदास) சமஸ்கிருத இலக்கி...   \n",
      "2  29d154b56  சர் அலெக்ஸாண்டர் ஃபிளெமிங் (Sir Alexander Flem...   \n",
      "3  41660850a  குழந்தையின் அழுகையை  நிறுத்தவும், தூங்க வைக்கவ...   \n",
      "4  b29c82c22  சூரியக் குடும்பம் \\nசூரியக் குடும்பம் (Solar S...   \n",
      "\n",
      "                                            question  \\\n",
      "0               மனித உடலில் எத்தனை எலும்புகள் உள்ளன?   \n",
      "1                         காளிதாசன் எங்கு பிறந்தார்?   \n",
      "2                   பென்சிலின் கண்டுபிடித்தவர் யார்?   \n",
      "3  தமிழ்நாட்டில் குழந்தைகளை தூங்க வைக்க பாடும் பா...   \n",
      "4                பூமியின் அருகில் உள்ள விண்மீன் எது?   \n",
      "\n",
      "                  answer_text  answer_start language  \n",
      "0                         206            53    tamil  \n",
      "1                  காசுமீரில்          2358    tamil  \n",
      "2  சர் அலெக்ஸாண்டர் ஃபிளெமிங்             0    tamil  \n",
      "3                    தாலாட்டு            68    tamil  \n",
      "4                   சூரியனும்           585    tamil  \n"
     ]
    }
   ],
   "source": [
    "train_data = pd.read_csv(path_train_data)\n",
    "print(train_data.head())\n",
    "test_data = pd.read_csv(path_test_data)"
   ]
  },
  {
   "cell_type": "code",
   "execution_count": 254,
   "id": "ae80ba6b",
   "metadata": {},
   "outputs": [
    {
     "name": "stdout",
     "output_type": "stream",
     "text": [
      "एडोल्फ मेयर ने बताया कि तम्बाकू में मोजेक रोग एक विशेष प्रकार के \n"
     ]
    }
   ],
   "source": [
    "print(train_data[train_data['language'] == 'hindi'].iloc[0]['context'][935: 1000])"
   ]
  },
  {
   "cell_type": "markdown",
   "id": "9e444434",
   "metadata": {},
   "source": [
    "#Checking the shape of the files "
   ]
  },
  {
   "cell_type": "code",
   "execution_count": 255,
   "id": "fb7b0abd",
   "metadata": {},
   "outputs": [
    {
     "name": "stdout",
     "output_type": "stream",
     "text": [
      "(1114, 6)\n",
      "(5, 4)\n"
     ]
    }
   ],
   "source": [
    "print(train_data.shape)\n",
    "print(test_data.shape)"
   ]
  },
  {
   "cell_type": "code",
   "execution_count": 256,
   "id": "5ae74261",
   "metadata": {},
   "outputs": [
    {
     "data": {
      "text/html": [
       "<div>\n",
       "<style scoped>\n",
       "    .dataframe tbody tr th:only-of-type {\n",
       "        vertical-align: middle;\n",
       "    }\n",
       "\n",
       "    .dataframe tbody tr th {\n",
       "        vertical-align: top;\n",
       "    }\n",
       "\n",
       "    .dataframe thead th {\n",
       "        text-align: right;\n",
       "    }\n",
       "</style>\n",
       "<table border=\"1\" class=\"dataframe\">\n",
       "  <thead>\n",
       "    <tr style=\"text-align: right;\">\n",
       "      <th></th>\n",
       "      <th>answer_start</th>\n",
       "    </tr>\n",
       "  </thead>\n",
       "  <tbody>\n",
       "    <tr>\n",
       "      <th>count</th>\n",
       "      <td>1114.000000</td>\n",
       "    </tr>\n",
       "    <tr>\n",
       "      <th>mean</th>\n",
       "      <td>1709.403052</td>\n",
       "    </tr>\n",
       "    <tr>\n",
       "      <th>std</th>\n",
       "      <td>3730.169300</td>\n",
       "    </tr>\n",
       "    <tr>\n",
       "      <th>min</th>\n",
       "      <td>0.000000</td>\n",
       "    </tr>\n",
       "    <tr>\n",
       "      <th>25%</th>\n",
       "      <td>67.000000</td>\n",
       "    </tr>\n",
       "    <tr>\n",
       "      <th>50%</th>\n",
       "      <td>373.000000</td>\n",
       "    </tr>\n",
       "    <tr>\n",
       "      <th>75%</th>\n",
       "      <td>1387.750000</td>\n",
       "    </tr>\n",
       "    <tr>\n",
       "      <th>max</th>\n",
       "      <td>40991.000000</td>\n",
       "    </tr>\n",
       "  </tbody>\n",
       "</table>\n",
       "</div>"
      ],
      "text/plain": [
       "       answer_start\n",
       "count   1114.000000\n",
       "mean    1709.403052\n",
       "std     3730.169300\n",
       "min        0.000000\n",
       "25%       67.000000\n",
       "50%      373.000000\n",
       "75%     1387.750000\n",
       "max    40991.000000"
      ]
     },
     "execution_count": 256,
     "metadata": {},
     "output_type": "execute_result"
    }
   ],
   "source": [
    "train_data.describe()"
   ]
  },
  {
   "cell_type": "code",
   "execution_count": 257,
   "id": "d8101206",
   "metadata": {},
   "outputs": [],
   "source": [
    "#train_data.describe(include='all')"
   ]
  },
  {
   "cell_type": "code",
   "execution_count": 258,
   "id": "b5cb8b5e",
   "metadata": {},
   "outputs": [
    {
     "name": "stdout",
     "output_type": "stream",
     "text": [
      "<class 'pandas.core.frame.DataFrame'>\n",
      "RangeIndex: 1114 entries, 0 to 1113\n",
      "Data columns (total 6 columns):\n",
      " #   Column        Non-Null Count  Dtype \n",
      "---  ------        --------------  ----- \n",
      " 0   id            1114 non-null   object\n",
      " 1   context       1114 non-null   object\n",
      " 2   question      1114 non-null   object\n",
      " 3   answer_text   1114 non-null   object\n",
      " 4   answer_start  1114 non-null   int64 \n",
      " 5   language      1114 non-null   object\n",
      "dtypes: int64(1), object(5)\n",
      "memory usage: 52.3+ KB\n"
     ]
    }
   ],
   "source": [
    "train_data.info()"
   ]
  },
  {
   "cell_type": "code",
   "execution_count": 259,
   "id": "71f270a7",
   "metadata": {},
   "outputs": [
    {
     "name": "stdout",
     "output_type": "stream",
     "text": [
      "id              1114\n",
      "context          924\n",
      "question        1104\n",
      "answer_text      990\n",
      "answer_start     723\n",
      "language           2\n",
      "dtype: int64\n"
     ]
    }
   ],
   "source": [
    "print(train_data.nunique())"
   ]
  },
  {
   "cell_type": "code",
   "execution_count": 260,
   "id": "e5aa5f85",
   "metadata": {},
   "outputs": [
    {
     "name": "stdout",
     "output_type": "stream",
     "text": [
      "id              746\n",
      "context         746\n",
      "question        746\n",
      "answer_text     746\n",
      "answer_start    746\n",
      "language        746\n",
      "dtype: int64\n"
     ]
    }
   ],
   "source": [
    "print(train_data[train_data['language'] == 'hindi'].count())\n",
    "#print(train_data[train_data['language'] == 'hindi']['question'].count())"
   ]
  },
  {
   "cell_type": "code",
   "execution_count": 261,
   "id": "a59ea4de",
   "metadata": {},
   "outputs": [
    {
     "name": "stdout",
     "output_type": "stream",
     "text": [
      "id              368\n",
      "context         368\n",
      "question        368\n",
      "answer_text     368\n",
      "answer_start    368\n",
      "language        368\n",
      "dtype: int64\n"
     ]
    }
   ],
   "source": [
    "print(train_data[train_data['language'] == 'tamil'].count())"
   ]
  },
  {
   "cell_type": "code",
   "execution_count": 262,
   "id": "b91af3e0",
   "metadata": {},
   "outputs": [
    {
     "data": {
      "text/plain": [
       "<AxesSubplot:title={'center':'Freq of language'}>"
      ]
     },
     "execution_count": 262,
     "metadata": {},
     "output_type": "execute_result"
    },
    {
     "data": {
      "image/png": "[encoded data removed]",
      "text/plain": [
       "<Figure size 432x288 with 1 Axes>"
      ]
     },
     "metadata": {
      "needs_background": "light"
     },
     "output_type": "display_data"
    }
   ],
   "source": [
    "train_data['language'].value_counts().plot.bar(title='Freq of language')"
   ]
  },
  {
   "cell_type": "code",
   "execution_count": 263,
   "id": "adf350b3",
   "metadata": {},
   "outputs": [
    {
     "data": {
      "text/plain": [
       "id              0\n",
       "context         0\n",
       "question        0\n",
       "answer_text     0\n",
       "answer_start    0\n",
       "language        0\n",
       "dtype: int64"
      ]
     },
     "execution_count": 263,
     "metadata": {},
     "output_type": "execute_result"
    }
   ],
   "source": [
    "train_data.isnull().values.any()\n",
    "train_data.isnull().sum()"
   ]
  },
  {
   "cell_type": "code",
   "execution_count": 264,
   "id": "076c9100",
   "metadata": {},
   "outputs": [],
   "source": [
    "#print( \" \".join(train_data['context'].tolist())[:1000])"
   ]
  },
  {
   "cell_type": "markdown",
   "id": "b8095a0a",
   "metadata": {},
   "source": [
    "# Feature Engineearing"
   ]
  },
  {
   "cell_type": "code",
   "execution_count": 265,
   "id": "76b0b90f",
   "metadata": {},
   "outputs": [],
   "source": [
    "#from textblob import TextBlob"
   ]
  },
  {
   "cell_type": "code",
   "execution_count": 266,
   "id": "48dc9c7f",
   "metadata": {},
   "outputs": [
    {
     "name": "stdout",
     "output_type": "stream",
     "text": [
      "0        4340\n",
      "1        7647\n",
      "2        4970\n",
      "3        8493\n",
      "4        9954\n",
      "        ...  \n",
      "1109     9832\n",
      "1110     1094\n",
      "1111     4753\n",
      "1112    31565\n",
      "1113     4683\n",
      "Name: context_len, Length: 1114, dtype: int64\n",
      "max text len of context- 49815\n",
      "min text len of context- 176\n",
      "mean text len of context- 10999.168761220826\n"
     ]
    }
   ],
   "source": [
    "train_data['context_len'] = train_data['context'].apply(lambda x: len(x))\n",
    "print(train_data['context_len'])\n",
    "print('max text len of context-', train_data['context_len'].max())\n",
    "print('min text len of context-', train_data['context_len'].min())\n",
    "print('mean text len of context-', train_data['context_len'].mean())"
   ]
  },
  {
   "cell_type": "code",
   "execution_count": 267,
   "id": "f3228cc0",
   "metadata": {},
   "outputs": [
    {
     "name": "stdout",
     "output_type": "stream",
     "text": [
      "0       36\n",
      "1       26\n",
      "2       32\n",
      "3       75\n",
      "4       35\n",
      "        ..\n",
      "1109    46\n",
      "1110    27\n",
      "1111    45\n",
      "1112    47\n",
      "1113    37\n",
      "Name: question_len, Length: 1114, dtype: int64\n",
      "max text len of question- 121\n",
      "min text len of question- 19\n",
      "mean text len of question- 41.6508078994614\n"
     ]
    }
   ],
   "source": [
    "train_data['question_len'] = train_data['question'].apply(lambda x: len(x))\n",
    "print(train_data['question_len'])\n",
    "print('max text len of question-', train_data['question_len'].max())\n",
    "print('min text len of question-', train_data['question_len'].min())\n",
    "print('mean text len of question-', train_data['question_len'].mean())"
   ]
  },
  {
   "cell_type": "code",
   "execution_count": 268,
   "id": "2cd61df1",
   "metadata": {},
   "outputs": [
    {
     "name": "stdout",
     "output_type": "stream",
     "text": [
      "0        512\n",
      "1        789\n",
      "2        508\n",
      "3        941\n",
      "4       1113\n",
      "        ... \n",
      "1109    1797\n",
      "1110     187\n",
      "1111     909\n",
      "1112    6113\n",
      "1113     822\n",
      "Name: context_word_count, Length: 1114, dtype: int64\n",
      "max_context_word_count of context- 10259\n",
      "min_context_word_count of context- 24\n",
      "mean_context_word_count of context- 1694.25763016158\n"
     ]
    }
   ],
   "source": [
    "train_data['context_word_count'] = train_data['context'].apply(lambda x: len(x.split()))\n",
    "print(train_data['context_word_count'])\n",
    "\n",
    "print('max_context_word_count of context-', train_data['context_word_count'].max())\n",
    "print('min_context_word_count of context-',train_data['context_word_count'].min())\n",
    "print('mean_context_word_count of context-',train_data['context_word_count'].mean())"
   ]
  },
  {
   "cell_type": "code",
   "execution_count": 269,
   "id": "b3ed5cba",
   "metadata": {},
   "outputs": [
    {
     "name": "stdout",
     "output_type": "stream",
     "text": [
      "0        5\n",
      "1        3\n",
      "2        3\n",
      "3        8\n",
      "4        5\n",
      "        ..\n",
      "1109     8\n",
      "1110     4\n",
      "1111     8\n",
      "1112    10\n",
      "1113     9\n",
      "Name: question_word_count, Length: 1114, dtype: int64\n",
      "max_question_word_count_train_data 22\n",
      "min_question_word_count_train_data 3\n",
      "mean_question_word_count_train_data 7.123877917414721\n"
     ]
    }
   ],
   "source": [
    "train_data['question_word_count'] = train_data['question'].apply(lambda x: len(x.split()))\n",
    "print(train_data['question_word_count'])\n",
    "\n",
    "\n",
    "print('max_question_word_count_train_data',train_data['question_word_count'].max())\n",
    "print('min_question_word_count_train_data',train_data['question_word_count'].min())\n",
    "print('mean_question_word_count_train_data',train_data['question_word_count'].mean())"
   ]
  },
  {
   "cell_type": "code",
   "execution_count": 270,
   "id": "c5e7c226",
   "metadata": {},
   "outputs": [],
   "source": [
    "# Average word len\n",
    "\n",
    "def get_avg_word_len(x):\n",
    "    words = x.split()\n",
    "    word_len = 0\n",
    "    for word in words:\n",
    "        word_len = word_len +len(word)\n",
    "    return word_len/len(words)\n",
    "\n"
   ]
  },
  {
   "cell_type": "code",
   "execution_count": 271,
   "id": "5e60e0bf",
   "metadata": {},
   "outputs": [
    {
     "name": "stdout",
     "output_type": "stream",
     "text": [
      "0       7.294922\n",
      "1       8.621039\n",
      "2       8.740157\n",
      "3       7.637620\n",
      "4       7.910153\n",
      "          ...   \n",
      "1109    4.436839\n",
      "1110    4.834225\n",
      "1111    4.212321\n",
      "1112    4.145264\n",
      "1113    4.654501\n",
      "Name: avg_word_len_cont, Length: 1114, dtype: float64\n",
      "0        6.400000\n",
      "1        8.000000\n",
      "2       10.000000\n",
      "3        8.500000\n",
      "4        6.200000\n",
      "          ...    \n",
      "1109     4.875000\n",
      "1110     6.000000\n",
      "1111     4.750000\n",
      "1112     3.800000\n",
      "1113     3.222222\n",
      "Name: avg_word_len_quest, Length: 1114, dtype: float64\n"
     ]
    }
   ],
   "source": [
    "train_data['avg_word_len_cont'] = train_data['context'].apply(lambda x: get_avg_word_len(x))\n",
    "print(train_data['avg_word_len_cont'])\n",
    "train_data['avg_word_len_quest'] = train_data['question'].apply(lambda x: get_avg_word_len(x))\n",
    "print(train_data['avg_word_len_quest'])"
   ]
  },
  {
   "cell_type": "code",
   "execution_count": 272,
   "id": "06d95a6b",
   "metadata": {},
   "outputs": [
    {
     "data": {
      "text/html": [
       "<div>\n",
       "<style scoped>\n",
       "    .dataframe tbody tr th:only-of-type {\n",
       "        vertical-align: middle;\n",
       "    }\n",
       "\n",
       "    .dataframe tbody tr th {\n",
       "        vertical-align: top;\n",
       "    }\n",
       "\n",
       "    .dataframe thead th {\n",
       "        text-align: right;\n",
       "    }\n",
       "</style>\n",
       "<table border=\"1\" class=\"dataframe\">\n",
       "  <thead>\n",
       "    <tr style=\"text-align: right;\">\n",
       "      <th></th>\n",
       "      <th>id</th>\n",
       "      <th>context</th>\n",
       "      <th>question</th>\n",
       "      <th>answer_text</th>\n",
       "      <th>answer_start</th>\n",
       "      <th>language</th>\n",
       "      <th>context_len</th>\n",
       "      <th>question_len</th>\n",
       "      <th>context_word_count</th>\n",
       "      <th>question_word_count</th>\n",
       "      <th>avg_word_len_cont</th>\n",
       "      <th>avg_word_len_quest</th>\n",
       "    </tr>\n",
       "  </thead>\n",
       "  <tbody>\n",
       "    <tr>\n",
       "      <th>0</th>\n",
       "      <td>903deec17</td>\n",
       "      <td>ஒரு சாதாரண வளர்ந்த மனிதனுடைய எலும்புக்கூடு பின...</td>\n",
       "      <td>மனித உடலில் எத்தனை எலும்புகள் உள்ளன?</td>\n",
       "      <td>206</td>\n",
       "      <td>53</td>\n",
       "      <td>tamil</td>\n",
       "      <td>4340</td>\n",
       "      <td>36</td>\n",
       "      <td>512</td>\n",
       "      <td>5</td>\n",
       "      <td>7.294922</td>\n",
       "      <td>6.4</td>\n",
       "    </tr>\n",
       "    <tr>\n",
       "      <th>1</th>\n",
       "      <td>d9841668c</td>\n",
       "      <td>காளிதாசன் (தேவநாகரி: कालिदास) சமஸ்கிருத இலக்கி...</td>\n",
       "      <td>காளிதாசன் எங்கு பிறந்தார்?</td>\n",
       "      <td>காசுமீரில்</td>\n",
       "      <td>2358</td>\n",
       "      <td>tamil</td>\n",
       "      <td>7647</td>\n",
       "      <td>26</td>\n",
       "      <td>789</td>\n",
       "      <td>3</td>\n",
       "      <td>8.621039</td>\n",
       "      <td>8.0</td>\n",
       "    </tr>\n",
       "    <tr>\n",
       "      <th>2</th>\n",
       "      <td>29d154b56</td>\n",
       "      <td>சர் அலெக்ஸாண்டர் ஃபிளெமிங் (Sir Alexander Flem...</td>\n",
       "      <td>பென்சிலின் கண்டுபிடித்தவர் யார்?</td>\n",
       "      <td>சர் அலெக்ஸாண்டர் ஃபிளெமிங்</td>\n",
       "      <td>0</td>\n",
       "      <td>tamil</td>\n",
       "      <td>4970</td>\n",
       "      <td>32</td>\n",
       "      <td>508</td>\n",
       "      <td>3</td>\n",
       "      <td>8.740157</td>\n",
       "      <td>10.0</td>\n",
       "    </tr>\n",
       "    <tr>\n",
       "      <th>3</th>\n",
       "      <td>41660850a</td>\n",
       "      <td>குழந்தையின் அழுகையை  நிறுத்தவும், தூங்க வைக்கவ...</td>\n",
       "      <td>தமிழ்நாட்டில் குழந்தைகளை தூங்க வைக்க பாடும் பா...</td>\n",
       "      <td>தாலாட்டு</td>\n",
       "      <td>68</td>\n",
       "      <td>tamil</td>\n",
       "      <td>8493</td>\n",
       "      <td>75</td>\n",
       "      <td>941</td>\n",
       "      <td>8</td>\n",
       "      <td>7.637620</td>\n",
       "      <td>8.5</td>\n",
       "    </tr>\n",
       "    <tr>\n",
       "      <th>4</th>\n",
       "      <td>b29c82c22</td>\n",
       "      <td>சூரியக் குடும்பம் \\nசூரியக் குடும்பம் (Solar S...</td>\n",
       "      <td>பூமியின் அருகில் உள்ள விண்மீன் எது?</td>\n",
       "      <td>சூரியனும்</td>\n",
       "      <td>585</td>\n",
       "      <td>tamil</td>\n",
       "      <td>9954</td>\n",
       "      <td>35</td>\n",
       "      <td>1113</td>\n",
       "      <td>5</td>\n",
       "      <td>7.910153</td>\n",
       "      <td>6.2</td>\n",
       "    </tr>\n",
       "  </tbody>\n",
       "</table>\n",
       "</div>"
      ],
      "text/plain": [
       "          id                                            context  \\\n",
       "0  903deec17  ஒரு சாதாரண வளர்ந்த மனிதனுடைய எலும்புக்கூடு பின...   \n",
       "1  d9841668c  காளிதாசன் (தேவநாகரி: कालिदास) சமஸ்கிருத இலக்கி...   \n",
       "2  29d154b56  சர் அலெக்ஸாண்டர் ஃபிளெமிங் (Sir Alexander Flem...   \n",
       "3  41660850a  குழந்தையின் அழுகையை  நிறுத்தவும், தூங்க வைக்கவ...   \n",
       "4  b29c82c22  சூரியக் குடும்பம் \\nசூரியக் குடும்பம் (Solar S...   \n",
       "\n",
       "                                            question  \\\n",
       "0               மனித உடலில் எத்தனை எலும்புகள் உள்ளன?   \n",
       "1                         காளிதாசன் எங்கு பிறந்தார்?   \n",
       "2                   பென்சிலின் கண்டுபிடித்தவர் யார்?   \n",
       "3  தமிழ்நாட்டில் குழந்தைகளை தூங்க வைக்க பாடும் பா...   \n",
       "4                பூமியின் அருகில் உள்ள விண்மீன் எது?   \n",
       "\n",
       "                  answer_text  answer_start language  context_len  \\\n",
       "0                         206            53    tamil         4340   \n",
       "1                  காசுமீரில்          2358    tamil         7647   \n",
       "2  சர் அலெக்ஸாண்டர் ஃபிளெமிங்             0    tamil         4970   \n",
       "3                    தாலாட்டு            68    tamil         8493   \n",
       "4                   சூரியனும்           585    tamil         9954   \n",
       "\n",
       "   question_len  context_word_count  question_word_count  avg_word_len_cont  \\\n",
       "0            36                 512                    5           7.294922   \n",
       "1            26                 789                    3           8.621039   \n",
       "2            32                 508                    3           8.740157   \n",
       "3            75                 941                    8           7.637620   \n",
       "4            35                1113                    5           7.910153   \n",
       "\n",
       "   avg_word_len_quest  \n",
       "0                 6.4  \n",
       "1                 8.0  \n",
       "2                10.0  \n",
       "3                 8.5  \n",
       "4                 6.2  "
      ]
     },
     "execution_count": 272,
     "metadata": {},
     "output_type": "execute_result"
    }
   ],
   "source": [
    "train_data.head()"
   ]
  },
  {
   "cell_type": "markdown",
   "id": "a8fd7bb0",
   "metadata": {},
   "source": [
    "# Visualization "
   ]
  },
  {
   "cell_type": "code",
   "execution_count": 273,
   "id": "71c55681",
   "metadata": {},
   "outputs": [
    {
     "data": {
      "image/png": "[encoded data removed]",
      "text/plain": [
       "<Figure size 432x288 with 1 Axes>"
      ]
     },
     "metadata": {
      "needs_background": "light"
     },
     "output_type": "display_data"
    },
    {
     "data": {
      "image/png": "[encoded data removed]",
      "text/plain": [
       "<Figure size 432x288 with 1 Axes>"
      ]
     },
     "metadata": {
      "needs_background": "light"
     },
     "output_type": "display_data"
    }
   ],
   "source": [
    "#fig, (ax1, ax2) = plt.subplots(1, 2, constrained_layout=True, sharey=True)\n",
    "#train_data['context_len'].plot(kind = 'hist')#, xTitle = 'context_len') \n",
    "# plotting the points \n",
    "plt.hist(train_data['context_len'])\n",
    "plt.xlabel('context_len')\n",
    "plt.ylabel('Frequency')\n",
    "plt.title('Context_len graph')\n",
    "plt.show()\n",
    "\n",
    "plt.hist(train_data['question_len'])\n",
    "plt.xlabel('question')\n",
    "plt.ylabel('Frequency')\n",
    "plt.title('question_len graph')\n",
    "plt.show()\n",
    "\n",
    "#ax[1,2].plt(X, Y2)\n",
    "\n",
    "#fig.suptitle('Context and Question len', fontsize=16)"
   ]
  },
  {
   "cell_type": "code",
   "execution_count": 274,
   "id": "5d9681b2",
   "metadata": {
    "scrolled": true
   },
   "outputs": [
    {
     "data": {
      "image/png": "[encoded data removed]",
      "text/plain": [
       "<Figure size 432x288 with 1 Axes>"
      ]
     },
     "metadata": {
      "needs_background": "light"
     },
     "output_type": "display_data"
    },
    {
     "data": {
      "image/png": "[encoded data removed]",
      "text/plain": [
       "<Figure size 432x288 with 1 Axes>"
      ]
     },
     "metadata": {
      "needs_background": "light"
     },
     "output_type": "display_data"
    }
   ],
   "source": [
    "plt.hist(train_data['context_word_count'])\n",
    "plt.xlabel('context_word_count')\n",
    "plt.ylabel('Frequency')\n",
    "plt.title('context_word_count graph')\n",
    "plt.show()\n",
    "\n",
    "plt.hist(train_data['question_word_count'])\n",
    "plt.xlabel('question_word_count')\n",
    "plt.ylabel('Frequency')\n",
    "plt.title('question_word_count graph')\n",
    "plt.show()\n"
   ]
  },
  {
   "cell_type": "code",
   "execution_count": 275,
   "id": "2445f0f1",
   "metadata": {},
   "outputs": [
    {
     "data": {
      "image/png": "[encoded data removed]",
      "text/plain": [
       "<Figure size 432x288 with 1 Axes>"
      ]
     },
     "metadata": {
      "needs_background": "light"
     },
     "output_type": "display_data"
    },
    {
     "data": {
      "image/png": "[encoded data removed]",
      "text/plain": [
       "<Figure size 432x288 with 1 Axes>"
      ]
     },
     "metadata": {
      "needs_background": "light"
     },
     "output_type": "display_data"
    }
   ],
   "source": [
    "plt.hist(train_data['avg_word_len_cont'])\n",
    "plt.xlabel('avg_word_len_cont')\n",
    "plt.ylabel('Frequency')\n",
    "plt.title('avg_word_len_cont graph')\n",
    "plt.show()\n",
    "\n",
    "plt.hist(train_data['avg_word_len_quest'])\n",
    "plt.xlabel('avg_word_len_quest')\n",
    "plt.ylabel('Frequency')\n",
    "plt.title('avg_word_len_quest graph')\n",
    "plt.show()"
   ]
  },
  {
   "cell_type": "code",
   "execution_count": 276,
   "id": "472e6bb0",
   "metadata": {},
   "outputs": [],
   "source": [
    "#train_data.groupby('context').count()"
   ]
  },
  {
   "cell_type": "code",
   "execution_count": 277,
   "id": "fd56b312",
   "metadata": {},
   "outputs": [
    {
     "data": {
      "text/html": [
       "<div>\n",
       "<style scoped>\n",
       "    .dataframe tbody tr th:only-of-type {\n",
       "        vertical-align: middle;\n",
       "    }\n",
       "\n",
       "    .dataframe tbody tr th {\n",
       "        vertical-align: top;\n",
       "    }\n",
       "\n",
       "    .dataframe thead th {\n",
       "        text-align: right;\n",
       "    }\n",
       "</style>\n",
       "<table border=\"1\" class=\"dataframe\">\n",
       "  <thead>\n",
       "    <tr style=\"text-align: right;\">\n",
       "      <th></th>\n",
       "      <th>id</th>\n",
       "      <th>context</th>\n",
       "      <th>question</th>\n",
       "      <th>answer_text</th>\n",
       "      <th>answer_start</th>\n",
       "      <th>context_len</th>\n",
       "      <th>question_len</th>\n",
       "      <th>context_word_count</th>\n",
       "      <th>question_word_count</th>\n",
       "      <th>avg_word_len_cont</th>\n",
       "      <th>avg_word_len_quest</th>\n",
       "    </tr>\n",
       "    <tr>\n",
       "      <th>language</th>\n",
       "      <th></th>\n",
       "      <th></th>\n",
       "      <th></th>\n",
       "      <th></th>\n",
       "      <th></th>\n",
       "      <th></th>\n",
       "      <th></th>\n",
       "      <th></th>\n",
       "      <th></th>\n",
       "      <th></th>\n",
       "      <th></th>\n",
       "    </tr>\n",
       "  </thead>\n",
       "  <tbody>\n",
       "    <tr>\n",
       "      <th>hindi</th>\n",
       "      <td>746</td>\n",
       "      <td>746</td>\n",
       "      <td>746</td>\n",
       "      <td>746</td>\n",
       "      <td>746</td>\n",
       "      <td>746</td>\n",
       "      <td>746</td>\n",
       "      <td>746</td>\n",
       "      <td>746</td>\n",
       "      <td>746</td>\n",
       "      <td>746</td>\n",
       "    </tr>\n",
       "    <tr>\n",
       "      <th>tamil</th>\n",
       "      <td>368</td>\n",
       "      <td>368</td>\n",
       "      <td>368</td>\n",
       "      <td>368</td>\n",
       "      <td>368</td>\n",
       "      <td>368</td>\n",
       "      <td>368</td>\n",
       "      <td>368</td>\n",
       "      <td>368</td>\n",
       "      <td>368</td>\n",
       "      <td>368</td>\n",
       "    </tr>\n",
       "  </tbody>\n",
       "</table>\n",
       "</div>"
      ],
      "text/plain": [
       "           id  context  question  answer_text  answer_start  context_len  \\\n",
       "language                                                                   \n",
       "hindi     746      746       746          746           746          746   \n",
       "tamil     368      368       368          368           368          368   \n",
       "\n",
       "          question_len  context_word_count  question_word_count  \\\n",
       "language                                                          \n",
       "hindi              746                 746                  746   \n",
       "tamil              368                 368                  368   \n",
       "\n",
       "          avg_word_len_cont  avg_word_len_quest  \n",
       "language                                         \n",
       "hindi                   746                 746  \n",
       "tamil                   368                 368  "
      ]
     },
     "execution_count": 277,
     "metadata": {},
     "output_type": "execute_result"
    }
   ],
   "source": [
    "train_data.groupby('language').count()"
   ]
  },
  {
   "cell_type": "markdown",
   "id": "c15452c2",
   "metadata": {},
   "source": [
    "# Unigram "
   ]
  },
  {
   "cell_type": "code",
   "execution_count": 278,
   "id": "8d3011c6",
   "metadata": {},
   "outputs": [],
   "source": [
    "from sklearn.feature_extraction.text import CountVectorizer\n",
    "\n",
    "def get_top_n_words(x,n):\n",
    "    vec = CountVectorizer().fit(x)\n",
    "    bow = vec.transform(x)\n",
    "    sum_words = bow.sum(axis = 0)\n",
    "    words_freq = [(word, sum_words[0, idx]) for word, idx in vec.vocabulary_.items()]\n",
    "    words_freq = sorted(words_freq, key = lambda x: x[1], reverse = True)\n",
    "    return words_freq[:n]"
   ]
  },
  {
   "cell_type": "code",
   "execution_count": 279,
   "id": "cb950387",
   "metadata": {
    "scrolled": true
   },
   "outputs": [
    {
     "name": "stdout",
     "output_type": "stream",
     "text": [
      "[('கள', 49152), ('और', 26831), ('பட', 22639), ('पर', 19972), ('एक', 15099), ('रत', 12488), ('कर', 11657), ('इस', 9535), ('यह', 9150), ('गय', 8646), ('वर', 8624), ('என', 8267), ('अन', 8206), ('सम', 7759), ('கப', 7514), ('இர', 7117), ('தல', 6834), ('றத', 6414), ('अपन', 6310), ('மற', 6200)]\n"
     ]
    }
   ],
   "source": [
    "context_unigram = get_top_n_words(train_data['context'], 20)\n",
    "print(context_unigram)"
   ]
  },
  {
   "cell_type": "code",
   "execution_count": 280,
   "id": "98021a1a",
   "metadata": {},
   "outputs": [
    {
     "name": "stdout",
     "output_type": "stream",
     "text": [
      "[('கள', 49152), ('और', 26831), ('பட', 22639), ('पर', 19972), ('एक', 15099), ('रत', 12488), ('कर', 11657), ('इस', 9535), ('यह', 9150), ('गय', 8646), ('वर', 8624), ('என', 8267), ('अन', 8206), ('सम', 7759), ('கப', 7514), ('இர', 7117), ('தல', 6834), ('றத', 6414), ('अपन', 6310), ('மற', 6200)]\n"
     ]
    }
   ],
   "source": [
    "question_unigram = get_top_n_words(train_data['question'], 20)\n",
    "print(context_unigram)"
   ]
  },
  {
   "cell_type": "code",
   "execution_count": 281,
   "id": "56bca512",
   "metadata": {},
   "outputs": [],
   "source": [
    "#Plotting Unigram"
   ]
  },
  {
   "cell_type": "code",
   "execution_count": 282,
   "id": "9aed1d41",
   "metadata": {},
   "outputs": [
    {
     "name": "stdout",
     "output_type": "stream",
     "text": [
      "  Unigram  Frequency\n",
      "0      கள      49152\n",
      "1      और      26831\n",
      "2      பட      22639\n",
      "3      पर      19972\n",
      "4      एक      15099\n",
      "  Unigram  Frequency\n",
      "0      तन        114\n",
      "1      எத        112\n",
      "2      रत         88\n",
      "3      कब         86\n",
      "4      பட         84\n"
     ]
    }
   ],
   "source": [
    "df_context_uni = pd.DataFrame(context_unigram, columns = ['Unigram', 'Frequency'])\n",
    "print(df_context_uni.head())\n",
    "\n",
    "df_question_uni = pd.DataFrame(question_unigram, columns = ['Unigram', 'Frequency'])\n",
    "print(df_question_uni.head())"
   ]
  },
  {
   "cell_type": "code",
   "execution_count": 283,
   "id": "c227e617",
   "metadata": {},
   "outputs": [
    {
     "data": {
      "image/png": "[encoded data removed]",
      "text/plain": [
       "<Figure size 432x288 with 1 Axes>"
      ]
     },
     "metadata": {
      "needs_background": "light"
     },
     "output_type": "display_data"
    }
   ],
   "source": [
    "df_context_uni.plot(kind = 'bar')\n",
    "plt.xlabel('Unigram')\n",
    "plt.ylabel('Count')\n",
    "plt.title('Unigram vs Count')\n",
    "plt.show()"
   ]
  },
  {
   "cell_type": "code",
   "execution_count": 284,
   "id": "4c055909",
   "metadata": {},
   "outputs": [
    {
     "data": {
      "image/png": "[encoded data removed]",
      "text/plain": [
       "<Figure size 432x288 with 1 Axes>"
      ]
     },
     "metadata": {
      "needs_background": "light"
     },
     "output_type": "display_data"
    }
   ],
   "source": [
    "df_question_uni.plot(kind = 'bar')\n",
    "plt.xlabel('Unigram')\n",
    "plt.ylabel('Count')\n",
    "plt.title('Unigram vs Count')\n",
    "plt.show()"
   ]
  },
  {
   "cell_type": "markdown",
   "id": "25897108",
   "metadata": {},
   "source": [
    "# Bigram"
   ]
  },
  {
   "cell_type": "code",
   "execution_count": 285,
   "id": "9cf6c69b",
   "metadata": {},
   "outputs": [],
   "source": [
    "\n",
    "def get_top_n_words(x, n):\n",
    "    vec = CountVectorizer(ngram_range= (2,2)).fit(x)\n",
    "    bow = vec.transform(x)\n",
    "    sum_words = bow.sum(axis = 0)\n",
    "    words_freq = [(word, sum_words[0, idx]) for word, idx in vec.vocabulary_.items()]\n",
    "    words_freq = sorted(words_freq, key = lambda x: x[1], reverse = True)\n",
    "    return words_freq[:n]"
   ]
  },
  {
   "cell_type": "code",
   "execution_count": 286,
   "id": "cdb57305",
   "metadata": {},
   "outputs": [
    {
     "name": "stdout",
     "output_type": "stream",
     "text": [
      "[('கப பட', 5345), ('பட டத', 2569), ('பட றத', 2250), ('தப பட', 1935), ('மக கள', 1889), ('கள கள', 1485), ('ஆம ஆண', 1471), ('उत तर', 1467), ('டப பட', 1408), ('பக கள', 1400), ('அல லத', 1384), ('என பத', 1366), ('யப பட', 1265), ('டங கள', 1253), ('பயன பட', 1222), ('கள பக', 1175), ('கள உள', 1142), ('உள ளத', 1124), ('ஏற பட', 1097), ('பட றன', 1069)]\n",
      "[('பட டத', 51), ('எத தன', 40), ('கப பட', 35), ('உள ளன', 32), ('जन कब', 31), ('கள உள', 29), ('தல நகரம', 26), ('நகரம எத', 25), ('लय कह', 20), ('रफल तन', 20), ('கண தவர', 19), ('பரப பளவ', 19), ('பளவ என', 19), ('सबस पहल', 19), ('வப பட', 18), ('உள ளத', 18), ('எப றந', 17), ('எப வப', 16), ('எந ஆண', 16), ('யர என', 16)]\n"
     ]
    }
   ],
   "source": [
    "context_bigram = get_top_n_words(train_data['context'], 20)\n",
    "print(context_bigram)\n",
    "question_bigram = get_top_n_words(train_data['question'], 20)\n",
    "print(question_bigram)"
   ]
  },
  {
   "cell_type": "code",
   "execution_count": 287,
   "id": "89fac478",
   "metadata": {},
   "outputs": [
    {
     "name": "stdout",
     "output_type": "stream",
     "text": [
      "  Bigram  Frequency\n",
      "0  கப பட       5345\n",
      "1  பட டத       2569\n",
      "2  பட றத       2250\n",
      "3  தப பட       1935\n",
      "4  மக கள       1889\n",
      "  Bigram  Frequency\n",
      "0  பட டத         51\n",
      "1  எத தன         40\n",
      "2  கப பட         35\n",
      "3  உள ளன         32\n",
      "4  जन कब         31\n"
     ]
    }
   ],
   "source": [
    "df_context_bi = pd.DataFrame(context_bigram, columns = ['Bigram', 'Frequency'])\n",
    "print(df_context_bi.head())\n",
    "\n",
    "df_question_bi = pd.DataFrame(question_bigram, columns = ['Bigram', 'Frequency'])\n",
    "print(df_question_bi.head())"
   ]
  },
  {
   "cell_type": "code",
   "execution_count": null,
   "id": "d2fbbedb",
   "metadata": {},
   "outputs": [],
   "source": []
  },
  {
   "cell_type": "code",
   "execution_count": 288,
   "id": "92f0d747",
   "metadata": {},
   "outputs": [
    {
     "data": {
      "image/png": "[encoded data removed]",
      "text/plain": [
       "<Figure size 432x288 with 1 Axes>"
      ]
     },
     "metadata": {
      "needs_background": "light"
     },
     "output_type": "display_data"
    }
   ],
   "source": [
    "#df_context_uni = df_context_uni.set_index('Unigram')\n",
    "df_context_bi.plot(kind = 'bar')\n",
    "#plt.hist(train_data['avg_word_len_quest'])\n",
    "plt.xlabel('Bigram')\n",
    "plt.ylabel('Count')\n",
    "plt.title('CBigram vs Count')\n",
    "plt.show()"
   ]
  },
  {
   "cell_type": "code",
   "execution_count": 289,
   "id": "81a8f239",
   "metadata": {},
   "outputs": [
    {
     "data": {
      "image/png": "[encoded data removed]",
      "text/plain": [
       "<Figure size 432x288 with 1 Axes>"
      ]
     },
     "metadata": {
      "needs_background": "light"
     },
     "output_type": "display_data"
    }
   ],
   "source": [
    "#df_context_uni = df_context_uni.set_index('Unigram')\n",
    "df_question_bi.plot(kind = 'bar')\n",
    "#plt.hist(train_data['avg_word_len_quest'])\n",
    "plt.xlabel('Bigram')\n",
    "plt.ylabel('Count')\n",
    "plt.title('QBigram vs Count')\n",
    "plt.show()"
   ]
  },
  {
   "cell_type": "markdown",
   "id": "31dadc3e",
   "metadata": {},
   "source": [
    "# Trigram"
   ]
  },
  {
   "cell_type": "code",
   "execution_count": 290,
   "id": "9445b530",
   "metadata": {},
   "outputs": [],
   "source": [
    "\n",
    "def get_top_n_words(x, n):\n",
    "    vec = CountVectorizer(ngram_range= (3,3)).fit(x)\n",
    "    bow = vec.transform(x)\n",
    "    sum_words = bow.sum(axis = 0)\n",
    "    words_freq = [(word, sum_words[0, idx]) for word, idx in vec.vocabulary_.items()]\n",
    "    words_freq = sorted(words_freq, key = lambda x: x[1], reverse = True)\n",
    "    return words_freq[:n]"
   ]
  },
  {
   "cell_type": "code",
   "execution_count": 291,
   "id": "2b04d0ae",
   "metadata": {},
   "outputs": [
    {
     "name": "stdout",
     "output_type": "stream",
     "text": [
      "[('கப பட டத', 1002), ('பட தப பட', 851), ('அழ கப பட', 616), ('கப பட றத', 578), ('கள உள ளன', 568), ('கர தப பட', 475), ('பயன பட தப', 443), ('தப பட றத', 427), ('என அழ கப', 427), ('அற யப பட', 330), ('தப பட டத', 323), ('கள பயன பட', 318), ('உற னர கள', 305), ('கப பட ளத', 298), ('கள கப பட', 289), ('கப பட றன', 288), ('கட டப பட', 281), ('உர கப பட', 270), ('கள ஏற பட', 267), ('டப பட டத', 262)]\n",
      "[('கள உள ளன', 28), ('கப பட டத', 26), ('தல நகரம எத', 24), ('பரப பளவ என', 19), ('வப பட டத', 18), ('எப வப பட', 16), ('கண கப பட', 15), ('எப கண கப', 12), ('लय कह पर', 10), ('அழ கப பட', 8), ('எங உள ளத', 7), ('நகரத பரப பளவ', 7), ('அரச யல கட', 7), ('எத தன லங', 6), ('தன லங கள', 6), ('லங கள உள', 6), ('எத தன கள', 5), ('சப பட எத', 5), ('யல யர என', 5), ('இந எத தன', 5)]\n"
     ]
    }
   ],
   "source": [
    "context_trigram = get_top_n_words(train_data['context'], 20)\n",
    "print(context_trigram)\n",
    "question_trigram = get_top_n_words(train_data['question'], 20)\n",
    "print(question_trigram)"
   ]
  },
  {
   "cell_type": "code",
   "execution_count": 292,
   "id": "602cf875",
   "metadata": {},
   "outputs": [
    {
     "name": "stdout",
     "output_type": "stream",
     "text": [
      "     Bigram  Frequency\n",
      "0  கப பட டத       1002\n",
      "1  பட தப பட        851\n",
      "2  அழ கப பட        616\n",
      "3  கப பட றத        578\n",
      "4  கள உள ளன        568\n",
      "       Bigram  Frequency\n",
      "0    கள உள ளன         28\n",
      "1    கப பட டத         26\n",
      "2  தல நகரம எத         24\n",
      "3  பரப பளவ என         19\n",
      "4    வப பட டத         18\n"
     ]
    }
   ],
   "source": [
    "df_context_tri = pd.DataFrame(context_trigram, columns = ['Bigram', 'Frequency'])\n",
    "print(df_context_tri.head())\n",
    "\n",
    "df_question_tri = pd.DataFrame(question_trigram, columns = ['Bigram', 'Frequency'])\n",
    "print(df_question_tri.head())"
   ]
  },
  {
   "cell_type": "code",
   "execution_count": 293,
   "id": "81827294",
   "metadata": {},
   "outputs": [
    {
     "data": {
      "image/png": "[encoded data removed]",
      "text/plain": [
       "<Figure size 432x288 with 1 Axes>"
      ]
     },
     "metadata": {
      "needs_background": "light"
     },
     "output_type": "display_data"
    }
   ],
   "source": [
    "df_context_tri.plot(kind = 'bar')\n",
    "plt.xlabel('QTrigram')\n",
    "plt.ylabel('Count')\n",
    "plt.title('Tigram vs Count')\n",
    "plt.show()"
   ]
  },
  {
   "cell_type": "code",
   "execution_count": 294,
   "id": "64f43e61",
   "metadata": {},
   "outputs": [
    {
     "data": {
      "image/png": "[encoded data removed]",
      "text/plain": [
       "<Figure size 432x288 with 1 Axes>"
      ]
     },
     "metadata": {
      "needs_background": "light"
     },
     "output_type": "display_data"
    }
   ],
   "source": [
    "df_question_tri.plot(kind = 'bar')\n",
    "plt.xlabel('QTrigram')\n",
    "plt.ylabel('Count')\n",
    "plt.title('Tigram vs Count')\n",
    "plt.show()"
   ]
  },
  {
   "cell_type": "code",
   "execution_count": null,
   "id": "14323599",
   "metadata": {},
   "outputs": [],
   "source": [
    "cdQA-annotator\n",
    "npm install"
   ]
  },
  {
   "cell_type": "code",
   "execution_count": null,
   "id": "1acf768f",
   "metadata": {},
   "outputs": [],
   "source": [
    "npm run serve\n"
   ]
  },
  {
   "cell_type": "markdown",
   "id": "e7fc2c8d",
   "metadata": {},
   "source": [
    "# Stopwords \n",
    "#https://advertools.readthedocs.io/en/master/advertools.stopwords.html\n",
    "https://www.youtube.com/watch?v=HVBk2Ge_Q98\n",
    "\n",
    "#https://advertools.readthedocs.io/en/master/advertools.word_frequency.html#absolute-and-weighted-word-count\n",
    "#https://www.analyticsvidhya.com/blog/2019/02/stanfordnlp-nlp-library-python/\n"
   ]
  },
  {
   "cell_type": "code",
   "execution_count": 295,
   "id": "37f67b54",
   "metadata": {},
   "outputs": [],
   "source": [
    "#source activate stanfordnlp\n",
    "from bs4 import BeautifulSoup\n",
    "import stanfordnlp\n",
    "import torch\n",
    "import fastai, torch\n",
    "import advertools as adv\n",
    "#stanfordnlp.download('hi')"
   ]
  },
  {
   "cell_type": "code",
   "execution_count": 296,
   "id": "e45826d4",
   "metadata": {},
   "outputs": [
    {
     "name": "stdout",
     "output_type": "stream",
     "text": [
      "['अंदर', 'अत', 'अदि', 'अप', 'अपना', 'अपनि', 'अपनी', 'अपने', 'अभि', 'अभी', 'आदि', 'आप', 'इंहिं', 'इंहें', 'इंहों', 'इतयादि', 'इत्यादि', 'इन', 'इनका', 'इन्हीं', 'इन्हें', 'इन्हों', 'इस', 'इसका', 'इसकि', 'इसकी', 'इसके', 'इसमें', 'इसि', 'इसी', 'इसे', 'उंहिं', 'उंहें', 'उंहों', 'उन', 'उनका', 'उनकि', 'उनकी', 'उनके', 'उनको', 'उन्हीं', 'उन्हें', 'उन्हों', 'उस', 'उसके', 'उसि', 'उसी', 'उसे', 'एक', 'एवं', 'एस', 'एसे', 'ऐसे', 'ओर', 'और', 'कइ', 'कई', 'कर', 'करता', 'करते', 'करना', 'करने', 'करें', 'कहते', 'कहा', 'का', 'काफि', 'काफ़ी', 'कि', 'किंहें', 'किंहों', 'कितना', 'किन्हें', 'किन्हों', 'किया', 'किर', 'किस', 'किसि', 'किसी', 'किसे', 'की', 'कुछ', 'कुल', 'के', 'को', 'कोइ', 'कोई', 'कोन', 'कोनसा', 'कौन', 'कौनसा', 'गया', 'घर', 'जब', 'जहाँ', 'जहां', 'जा', 'जिंहें', 'जिंहों', 'जितना', 'जिधर', 'जिन', 'जिन्हें', 'जिन्हों', 'जिस', 'जिसे', 'जीधर', 'जेसा', 'जेसे', 'जैसा', 'जैसे', 'जो', 'तक', 'तब', 'तरह', 'तिंहें', 'तिंहों', 'तिन', 'तिन्हें', 'तिन्हों', 'तिस', 'तिसे', 'तो', 'था', 'थि', 'थी', 'थे', 'दबारा', 'दवारा', 'दिया', 'दुसरा', 'दुसरे', 'दूसरे', 'दो', 'द्वारा', 'न', 'नहिं', 'नहीं', 'ना', 'निचे', 'निहायत', 'नीचे', 'ने', 'पर', 'पहले', 'पुरा', 'पूरा', 'पे', 'फिर', 'बनि', 'बनी', 'बहि', 'बही', 'बहुत', 'बाद', 'बाला', 'बिलकुल', 'भि', 'भितर', 'भी', 'भीतर', 'मगर', 'मानो', 'मे', 'में', 'यदि', 'यह', 'यहाँ', 'यहां', 'यहि', 'यही', 'या', 'यिह', 'ये', 'रखें', 'रवासा', 'रहा', 'रहे', 'ऱ्वासा', 'लिए', 'लिये', 'लेकिन', 'व', 'वगेरह', 'वरग', 'वर्ग', 'वह', 'वहाँ', 'वहां', 'वहिं', 'वहीं', 'वाले', 'वुह', 'वे', 'वग़ैरह', 'संग', 'सकता', 'सकते', 'सबसे', 'सभि', 'सभी', 'साथ', 'साबुत', 'साभ', 'सारा', 'से', 'सो', 'हि', 'ही', 'हुअ', 'हुआ', 'हुइ', 'हुई', 'हुए', 'हे', 'हें', 'है', 'हैं', 'हो', 'होता', 'होति', 'होती', 'होते', 'होना', 'होने']\n"
     ]
    }
   ],
   "source": [
    "Stop_Hindi = sorted(adv.stopwords['hindi'])\n",
    "print(Stop_Hindi)\n",
    "#[\"a\", \"ab\", \"aber\", \"ach\", \"acht\"]"
   ]
  },
  {
   "cell_type": "code",
   "execution_count": 297,
   "id": "70dd53a0",
   "metadata": {},
   "outputs": [
    {
     "name": "stdout",
     "output_type": "stream",
     "text": [
      "['அங்கு', 'அங்கே', 'அடுத்த', 'அதனால்', 'அதன்']\n"
     ]
    }
   ],
   "source": [
    "Stop_Tamil = sorted(adv.stopwords['tamil'])[:5]\n",
    "print(Stop_Tamil)"
   ]
  },
  {
   "cell_type": "code",
   "execution_count": 298,
   "id": "fd468c3d",
   "metadata": {},
   "outputs": [
    {
     "name": "stdout",
     "output_type": "stream",
     "text": [
      "['पूर्ण', 'प्रतिबंध', 'हटाओ', ':', 'इराक', 'संयुक्त', ...]\n"
     ]
    }
   ],
   "source": [
    "import nltk\n",
    "print(nltk.corpus.indian.words('hindi.pos'))"
   ]
  }
 ],
 "metadata": {
  "kernelspec": {
   "display_name": "Python 3",
   "language": "python",
   "name": "python3"
  },
  "language_info": {
   "codemirror_mode": {
    "name": "ipython",
    "version": 3
   },
   "file_extension": ".py",
   "mimetype": "text/x-python",
   "name": "python",
   "nbconvert_exporter": "python",
   "pygments_lexer": "ipython3",
   "version": "3.8.8"
  }
 },
 "nbformat": 4,
 "nbformat_minor": 5
}
